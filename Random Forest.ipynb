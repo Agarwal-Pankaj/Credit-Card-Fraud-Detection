{
 "cells": [
  {
   "cell_type": "code",
   "execution_count": 41,
   "metadata": {},
   "outputs": [],
   "source": [
    "import pandas as pd\n",
    "import numpy as np\n",
    "import keras\n",
    "from sklearn.metrics import confusion_matrix\n",
    "import seaborn as sns\n",
    "import matplotlib.pyplot as plt\n",
    "np.random.seed(2)"
   ]
  },
  {
   "cell_type": "code",
   "execution_count": 16,
   "metadata": {},
   "outputs": [],
   "source": [
    "data = pd.read_csv('data/creditcard.csv')"
   ]
  },
  {
   "cell_type": "markdown",
   "metadata": {},
   "source": [
    "## Data exploration"
   ]
  },
  {
   "cell_type": "code",
   "execution_count": 17,
   "metadata": {},
   "outputs": [
    {
     "data": {
      "text/html": [
       "<div>\n",
       "<style scoped>\n",
       "    .dataframe tbody tr th:only-of-type {\n",
       "        vertical-align: middle;\n",
       "    }\n",
       "\n",
       "    .dataframe tbody tr th {\n",
       "        vertical-align: top;\n",
       "    }\n",
       "\n",
       "    .dataframe thead th {\n",
       "        text-align: right;\n",
       "    }\n",
       "</style>\n",
       "<table border=\"1\" class=\"dataframe\">\n",
       "  <thead>\n",
       "    <tr style=\"text-align: right;\">\n",
       "      <th></th>\n",
       "      <th>Time</th>\n",
       "      <th>V1</th>\n",
       "      <th>V2</th>\n",
       "      <th>V3</th>\n",
       "      <th>V4</th>\n",
       "      <th>V5</th>\n",
       "      <th>V6</th>\n",
       "      <th>V7</th>\n",
       "      <th>V8</th>\n",
       "      <th>V9</th>\n",
       "      <th>...</th>\n",
       "      <th>V21</th>\n",
       "      <th>V22</th>\n",
       "      <th>V23</th>\n",
       "      <th>V24</th>\n",
       "      <th>V25</th>\n",
       "      <th>V26</th>\n",
       "      <th>V27</th>\n",
       "      <th>V28</th>\n",
       "      <th>Amount</th>\n",
       "      <th>Class</th>\n",
       "    </tr>\n",
       "  </thead>\n",
       "  <tbody>\n",
       "    <tr>\n",
       "      <th>0</th>\n",
       "      <td>51435.0</td>\n",
       "      <td>1.197490</td>\n",
       "      <td>-0.352125</td>\n",
       "      <td>-0.135904</td>\n",
       "      <td>0.222100</td>\n",
       "      <td>0.231128</td>\n",
       "      <td>1.086617</td>\n",
       "      <td>-0.420363</td>\n",
       "      <td>0.391464</td>\n",
       "      <td>0.672499</td>\n",
       "      <td>...</td>\n",
       "      <td>-0.337999</td>\n",
       "      <td>-0.963921</td>\n",
       "      <td>-0.121931</td>\n",
       "      <td>-1.723430</td>\n",
       "      <td>0.368319</td>\n",
       "      <td>0.408003</td>\n",
       "      <td>-0.031160</td>\n",
       "      <td>-0.013680</td>\n",
       "      <td>39.95</td>\n",
       "      <td>0</td>\n",
       "    </tr>\n",
       "    <tr>\n",
       "      <th>1</th>\n",
       "      <td>78049.0</td>\n",
       "      <td>0.976047</td>\n",
       "      <td>-0.289947</td>\n",
       "      <td>1.465321</td>\n",
       "      <td>1.300002</td>\n",
       "      <td>-1.382887</td>\n",
       "      <td>-0.479586</td>\n",
       "      <td>-0.632572</td>\n",
       "      <td>0.064533</td>\n",
       "      <td>0.710743</td>\n",
       "      <td>...</td>\n",
       "      <td>0.322829</td>\n",
       "      <td>0.790185</td>\n",
       "      <td>-0.101364</td>\n",
       "      <td>0.730461</td>\n",
       "      <td>0.286601</td>\n",
       "      <td>-0.283233</td>\n",
       "      <td>0.059639</td>\n",
       "      <td>0.061220</td>\n",
       "      <td>92.98</td>\n",
       "      <td>0</td>\n",
       "    </tr>\n",
       "    <tr>\n",
       "      <th>2</th>\n",
       "      <td>157168.0</td>\n",
       "      <td>-1.395302</td>\n",
       "      <td>0.478266</td>\n",
       "      <td>-0.584911</td>\n",
       "      <td>-1.201527</td>\n",
       "      <td>0.928544</td>\n",
       "      <td>-0.743618</td>\n",
       "      <td>0.755504</td>\n",
       "      <td>-0.141397</td>\n",
       "      <td>-2.118499</td>\n",
       "      <td>...</td>\n",
       "      <td>0.282803</td>\n",
       "      <td>0.903183</td>\n",
       "      <td>-0.444694</td>\n",
       "      <td>0.696438</td>\n",
       "      <td>1.153480</td>\n",
       "      <td>0.311671</td>\n",
       "      <td>-0.662353</td>\n",
       "      <td>-0.161005</td>\n",
       "      <td>29.57</td>\n",
       "      <td>0</td>\n",
       "    </tr>\n",
       "    <tr>\n",
       "      <th>3</th>\n",
       "      <td>69297.0</td>\n",
       "      <td>1.276014</td>\n",
       "      <td>-0.672705</td>\n",
       "      <td>-0.425494</td>\n",
       "      <td>-0.777398</td>\n",
       "      <td>-0.582088</td>\n",
       "      <td>-0.880396</td>\n",
       "      <td>-0.103505</td>\n",
       "      <td>-0.203036</td>\n",
       "      <td>-1.241653</td>\n",
       "      <td>...</td>\n",
       "      <td>0.256003</td>\n",
       "      <td>0.408211</td>\n",
       "      <td>-0.274815</td>\n",
       "      <td>0.028707</td>\n",
       "      <td>0.743485</td>\n",
       "      <td>-0.087089</td>\n",
       "      <td>-0.054869</td>\n",
       "      <td>-0.000007</td>\n",
       "      <td>92.68</td>\n",
       "      <td>0</td>\n",
       "    </tr>\n",
       "    <tr>\n",
       "      <th>4</th>\n",
       "      <td>144504.0</td>\n",
       "      <td>-0.312745</td>\n",
       "      <td>-1.202565</td>\n",
       "      <td>2.249806</td>\n",
       "      <td>-0.297210</td>\n",
       "      <td>-0.963389</td>\n",
       "      <td>1.207532</td>\n",
       "      <td>-0.837776</td>\n",
       "      <td>-0.057654</td>\n",
       "      <td>1.121421</td>\n",
       "      <td>...</td>\n",
       "      <td>-0.274386</td>\n",
       "      <td>0.682305</td>\n",
       "      <td>0.432717</td>\n",
       "      <td>0.722364</td>\n",
       "      <td>-1.394148</td>\n",
       "      <td>0.660007</td>\n",
       "      <td>-0.221374</td>\n",
       "      <td>-0.136090</td>\n",
       "      <td>40.00</td>\n",
       "      <td>0</td>\n",
       "    </tr>\n",
       "  </tbody>\n",
       "</table>\n",
       "<p>5 rows × 31 columns</p>\n",
       "</div>"
      ],
      "text/plain": [
       "       Time        V1        V2        V3        V4        V5        V6  \\\n",
       "0   51435.0  1.197490 -0.352125 -0.135904  0.222100  0.231128  1.086617   \n",
       "1   78049.0  0.976047 -0.289947  1.465321  1.300002 -1.382887 -0.479586   \n",
       "2  157168.0 -1.395302  0.478266 -0.584911 -1.201527  0.928544 -0.743618   \n",
       "3   69297.0  1.276014 -0.672705 -0.425494 -0.777398 -0.582088 -0.880396   \n",
       "4  144504.0 -0.312745 -1.202565  2.249806 -0.297210 -0.963389  1.207532   \n",
       "\n",
       "         V7        V8        V9  ...         V21       V22       V23  \\\n",
       "0 -0.420363  0.391464  0.672499  ...   -0.337999 -0.963921 -0.121931   \n",
       "1 -0.632572  0.064533  0.710743  ...    0.322829  0.790185 -0.101364   \n",
       "2  0.755504 -0.141397 -2.118499  ...    0.282803  0.903183 -0.444694   \n",
       "3 -0.103505 -0.203036 -1.241653  ...    0.256003  0.408211 -0.274815   \n",
       "4 -0.837776 -0.057654  1.121421  ...   -0.274386  0.682305  0.432717   \n",
       "\n",
       "        V24       V25       V26       V27       V28  Amount  Class  \n",
       "0 -1.723430  0.368319  0.408003 -0.031160 -0.013680   39.95      0  \n",
       "1  0.730461  0.286601 -0.283233  0.059639  0.061220   92.98      0  \n",
       "2  0.696438  1.153480  0.311671 -0.662353 -0.161005   29.57      0  \n",
       "3  0.028707  0.743485 -0.087089 -0.054869 -0.000007   92.68      0  \n",
       "4  0.722364 -1.394148  0.660007 -0.221374 -0.136090   40.00      0  \n",
       "\n",
       "[5 rows x 31 columns]"
      ]
     },
     "execution_count": 17,
     "metadata": {},
     "output_type": "execute_result"
    }
   ],
   "source": [
    "data.head()"
   ]
  },
  {
   "cell_type": "markdown",
   "metadata": {},
   "source": [
    "## Pre-processing"
   ]
  },
  {
   "cell_type": "code",
   "execution_count": 18,
   "metadata": {},
   "outputs": [],
   "source": [
    "from sklearn.preprocessing import StandardScaler\n",
    "data['normalizedAmount'] = StandardScaler().fit_transform(data['Amount'].values.reshape(-1,1))\n",
    "data = data.drop(['Amount'],axis=1)"
   ]
  },
  {
   "cell_type": "code",
   "execution_count": 19,
   "metadata": {},
   "outputs": [
    {
     "data": {
      "text/html": [
       "<div>\n",
       "<style scoped>\n",
       "    .dataframe tbody tr th:only-of-type {\n",
       "        vertical-align: middle;\n",
       "    }\n",
       "\n",
       "    .dataframe tbody tr th {\n",
       "        vertical-align: top;\n",
       "    }\n",
       "\n",
       "    .dataframe thead th {\n",
       "        text-align: right;\n",
       "    }\n",
       "</style>\n",
       "<table border=\"1\" class=\"dataframe\">\n",
       "  <thead>\n",
       "    <tr style=\"text-align: right;\">\n",
       "      <th></th>\n",
       "      <th>Time</th>\n",
       "      <th>V1</th>\n",
       "      <th>V2</th>\n",
       "      <th>V3</th>\n",
       "      <th>V4</th>\n",
       "      <th>V5</th>\n",
       "      <th>V6</th>\n",
       "      <th>V7</th>\n",
       "      <th>V8</th>\n",
       "      <th>V9</th>\n",
       "      <th>...</th>\n",
       "      <th>V21</th>\n",
       "      <th>V22</th>\n",
       "      <th>V23</th>\n",
       "      <th>V24</th>\n",
       "      <th>V25</th>\n",
       "      <th>V26</th>\n",
       "      <th>V27</th>\n",
       "      <th>V28</th>\n",
       "      <th>Class</th>\n",
       "      <th>normalizedAmount</th>\n",
       "    </tr>\n",
       "  </thead>\n",
       "  <tbody>\n",
       "    <tr>\n",
       "      <th>0</th>\n",
       "      <td>51435.0</td>\n",
       "      <td>1.197490</td>\n",
       "      <td>-0.352125</td>\n",
       "      <td>-0.135904</td>\n",
       "      <td>0.222100</td>\n",
       "      <td>0.231128</td>\n",
       "      <td>1.086617</td>\n",
       "      <td>-0.420363</td>\n",
       "      <td>0.391464</td>\n",
       "      <td>0.672499</td>\n",
       "      <td>...</td>\n",
       "      <td>-0.337999</td>\n",
       "      <td>-0.963921</td>\n",
       "      <td>-0.121931</td>\n",
       "      <td>-1.723430</td>\n",
       "      <td>0.368319</td>\n",
       "      <td>0.408003</td>\n",
       "      <td>-0.031160</td>\n",
       "      <td>-0.013680</td>\n",
       "      <td>0</td>\n",
       "      <td>-0.190454</td>\n",
       "    </tr>\n",
       "    <tr>\n",
       "      <th>1</th>\n",
       "      <td>78049.0</td>\n",
       "      <td>0.976047</td>\n",
       "      <td>-0.289947</td>\n",
       "      <td>1.465321</td>\n",
       "      <td>1.300002</td>\n",
       "      <td>-1.382887</td>\n",
       "      <td>-0.479586</td>\n",
       "      <td>-0.632572</td>\n",
       "      <td>0.064533</td>\n",
       "      <td>0.710743</td>\n",
       "      <td>...</td>\n",
       "      <td>0.322829</td>\n",
       "      <td>0.790185</td>\n",
       "      <td>-0.101364</td>\n",
       "      <td>0.730461</td>\n",
       "      <td>0.286601</td>\n",
       "      <td>-0.283233</td>\n",
       "      <td>0.059639</td>\n",
       "      <td>0.061220</td>\n",
       "      <td>0</td>\n",
       "      <td>0.017516</td>\n",
       "    </tr>\n",
       "    <tr>\n",
       "      <th>2</th>\n",
       "      <td>157168.0</td>\n",
       "      <td>-1.395302</td>\n",
       "      <td>0.478266</td>\n",
       "      <td>-0.584911</td>\n",
       "      <td>-1.201527</td>\n",
       "      <td>0.928544</td>\n",
       "      <td>-0.743618</td>\n",
       "      <td>0.755504</td>\n",
       "      <td>-0.141397</td>\n",
       "      <td>-2.118499</td>\n",
       "      <td>...</td>\n",
       "      <td>0.282803</td>\n",
       "      <td>0.903183</td>\n",
       "      <td>-0.444694</td>\n",
       "      <td>0.696438</td>\n",
       "      <td>1.153480</td>\n",
       "      <td>0.311671</td>\n",
       "      <td>-0.662353</td>\n",
       "      <td>-0.161005</td>\n",
       "      <td>0</td>\n",
       "      <td>-0.231161</td>\n",
       "    </tr>\n",
       "    <tr>\n",
       "      <th>3</th>\n",
       "      <td>69297.0</td>\n",
       "      <td>1.276014</td>\n",
       "      <td>-0.672705</td>\n",
       "      <td>-0.425494</td>\n",
       "      <td>-0.777398</td>\n",
       "      <td>-0.582088</td>\n",
       "      <td>-0.880396</td>\n",
       "      <td>-0.103505</td>\n",
       "      <td>-0.203036</td>\n",
       "      <td>-1.241653</td>\n",
       "      <td>...</td>\n",
       "      <td>0.256003</td>\n",
       "      <td>0.408211</td>\n",
       "      <td>-0.274815</td>\n",
       "      <td>0.028707</td>\n",
       "      <td>0.743485</td>\n",
       "      <td>-0.087089</td>\n",
       "      <td>-0.054869</td>\n",
       "      <td>-0.000007</td>\n",
       "      <td>0</td>\n",
       "      <td>0.016340</td>\n",
       "    </tr>\n",
       "    <tr>\n",
       "      <th>4</th>\n",
       "      <td>144504.0</td>\n",
       "      <td>-0.312745</td>\n",
       "      <td>-1.202565</td>\n",
       "      <td>2.249806</td>\n",
       "      <td>-0.297210</td>\n",
       "      <td>-0.963389</td>\n",
       "      <td>1.207532</td>\n",
       "      <td>-0.837776</td>\n",
       "      <td>-0.057654</td>\n",
       "      <td>1.121421</td>\n",
       "      <td>...</td>\n",
       "      <td>-0.274386</td>\n",
       "      <td>0.682305</td>\n",
       "      <td>0.432717</td>\n",
       "      <td>0.722364</td>\n",
       "      <td>-1.394148</td>\n",
       "      <td>0.660007</td>\n",
       "      <td>-0.221374</td>\n",
       "      <td>-0.136090</td>\n",
       "      <td>0</td>\n",
       "      <td>-0.190258</td>\n",
       "    </tr>\n",
       "  </tbody>\n",
       "</table>\n",
       "<p>5 rows × 31 columns</p>\n",
       "</div>"
      ],
      "text/plain": [
       "       Time        V1        V2        V3        V4        V5        V6  \\\n",
       "0   51435.0  1.197490 -0.352125 -0.135904  0.222100  0.231128  1.086617   \n",
       "1   78049.0  0.976047 -0.289947  1.465321  1.300002 -1.382887 -0.479586   \n",
       "2  157168.0 -1.395302  0.478266 -0.584911 -1.201527  0.928544 -0.743618   \n",
       "3   69297.0  1.276014 -0.672705 -0.425494 -0.777398 -0.582088 -0.880396   \n",
       "4  144504.0 -0.312745 -1.202565  2.249806 -0.297210 -0.963389  1.207532   \n",
       "\n",
       "         V7        V8        V9        ...              V21       V22  \\\n",
       "0 -0.420363  0.391464  0.672499        ...        -0.337999 -0.963921   \n",
       "1 -0.632572  0.064533  0.710743        ...         0.322829  0.790185   \n",
       "2  0.755504 -0.141397 -2.118499        ...         0.282803  0.903183   \n",
       "3 -0.103505 -0.203036 -1.241653        ...         0.256003  0.408211   \n",
       "4 -0.837776 -0.057654  1.121421        ...        -0.274386  0.682305   \n",
       "\n",
       "        V23       V24       V25       V26       V27       V28  Class  \\\n",
       "0 -0.121931 -1.723430  0.368319  0.408003 -0.031160 -0.013680      0   \n",
       "1 -0.101364  0.730461  0.286601 -0.283233  0.059639  0.061220      0   \n",
       "2 -0.444694  0.696438  1.153480  0.311671 -0.662353 -0.161005      0   \n",
       "3 -0.274815  0.028707  0.743485 -0.087089 -0.054869 -0.000007      0   \n",
       "4  0.432717  0.722364 -1.394148  0.660007 -0.221374 -0.136090      0   \n",
       "\n",
       "   normalizedAmount  \n",
       "0         -0.190454  \n",
       "1          0.017516  \n",
       "2         -0.231161  \n",
       "3          0.016340  \n",
       "4         -0.190258  \n",
       "\n",
       "[5 rows x 31 columns]"
      ]
     },
     "execution_count": 19,
     "metadata": {},
     "output_type": "execute_result"
    }
   ],
   "source": [
    "data.head()"
   ]
  },
  {
   "cell_type": "code",
   "execution_count": 20,
   "metadata": {},
   "outputs": [
    {
     "data": {
      "text/html": [
       "<div>\n",
       "<style scoped>\n",
       "    .dataframe tbody tr th:only-of-type {\n",
       "        vertical-align: middle;\n",
       "    }\n",
       "\n",
       "    .dataframe tbody tr th {\n",
       "        vertical-align: top;\n",
       "    }\n",
       "\n",
       "    .dataframe thead th {\n",
       "        text-align: right;\n",
       "    }\n",
       "</style>\n",
       "<table border=\"1\" class=\"dataframe\">\n",
       "  <thead>\n",
       "    <tr style=\"text-align: right;\">\n",
       "      <th></th>\n",
       "      <th>V1</th>\n",
       "      <th>V2</th>\n",
       "      <th>V3</th>\n",
       "      <th>V4</th>\n",
       "      <th>V5</th>\n",
       "      <th>V6</th>\n",
       "      <th>V7</th>\n",
       "      <th>V8</th>\n",
       "      <th>V9</th>\n",
       "      <th>V10</th>\n",
       "      <th>...</th>\n",
       "      <th>V21</th>\n",
       "      <th>V22</th>\n",
       "      <th>V23</th>\n",
       "      <th>V24</th>\n",
       "      <th>V25</th>\n",
       "      <th>V26</th>\n",
       "      <th>V27</th>\n",
       "      <th>V28</th>\n",
       "      <th>Class</th>\n",
       "      <th>normalizedAmount</th>\n",
       "    </tr>\n",
       "  </thead>\n",
       "  <tbody>\n",
       "    <tr>\n",
       "      <th>0</th>\n",
       "      <td>1.197490</td>\n",
       "      <td>-0.352125</td>\n",
       "      <td>-0.135904</td>\n",
       "      <td>0.222100</td>\n",
       "      <td>0.231128</td>\n",
       "      <td>1.086617</td>\n",
       "      <td>-0.420363</td>\n",
       "      <td>0.391464</td>\n",
       "      <td>0.672499</td>\n",
       "      <td>-0.058119</td>\n",
       "      <td>...</td>\n",
       "      <td>-0.337999</td>\n",
       "      <td>-0.963921</td>\n",
       "      <td>-0.121931</td>\n",
       "      <td>-1.723430</td>\n",
       "      <td>0.368319</td>\n",
       "      <td>0.408003</td>\n",
       "      <td>-0.031160</td>\n",
       "      <td>-0.013680</td>\n",
       "      <td>0</td>\n",
       "      <td>-0.190454</td>\n",
       "    </tr>\n",
       "    <tr>\n",
       "      <th>1</th>\n",
       "      <td>0.976047</td>\n",
       "      <td>-0.289947</td>\n",
       "      <td>1.465321</td>\n",
       "      <td>1.300002</td>\n",
       "      <td>-1.382887</td>\n",
       "      <td>-0.479586</td>\n",
       "      <td>-0.632572</td>\n",
       "      <td>0.064533</td>\n",
       "      <td>0.710743</td>\n",
       "      <td>-0.093670</td>\n",
       "      <td>...</td>\n",
       "      <td>0.322829</td>\n",
       "      <td>0.790185</td>\n",
       "      <td>-0.101364</td>\n",
       "      <td>0.730461</td>\n",
       "      <td>0.286601</td>\n",
       "      <td>-0.283233</td>\n",
       "      <td>0.059639</td>\n",
       "      <td>0.061220</td>\n",
       "      <td>0</td>\n",
       "      <td>0.017516</td>\n",
       "    </tr>\n",
       "    <tr>\n",
       "      <th>2</th>\n",
       "      <td>-1.395302</td>\n",
       "      <td>0.478266</td>\n",
       "      <td>-0.584911</td>\n",
       "      <td>-1.201527</td>\n",
       "      <td>0.928544</td>\n",
       "      <td>-0.743618</td>\n",
       "      <td>0.755504</td>\n",
       "      <td>-0.141397</td>\n",
       "      <td>-2.118499</td>\n",
       "      <td>0.182768</td>\n",
       "      <td>...</td>\n",
       "      <td>0.282803</td>\n",
       "      <td>0.903183</td>\n",
       "      <td>-0.444694</td>\n",
       "      <td>0.696438</td>\n",
       "      <td>1.153480</td>\n",
       "      <td>0.311671</td>\n",
       "      <td>-0.662353</td>\n",
       "      <td>-0.161005</td>\n",
       "      <td>0</td>\n",
       "      <td>-0.231161</td>\n",
       "    </tr>\n",
       "    <tr>\n",
       "      <th>3</th>\n",
       "      <td>1.276014</td>\n",
       "      <td>-0.672705</td>\n",
       "      <td>-0.425494</td>\n",
       "      <td>-0.777398</td>\n",
       "      <td>-0.582088</td>\n",
       "      <td>-0.880396</td>\n",
       "      <td>-0.103505</td>\n",
       "      <td>-0.203036</td>\n",
       "      <td>-1.241653</td>\n",
       "      <td>0.849479</td>\n",
       "      <td>...</td>\n",
       "      <td>0.256003</td>\n",
       "      <td>0.408211</td>\n",
       "      <td>-0.274815</td>\n",
       "      <td>0.028707</td>\n",
       "      <td>0.743485</td>\n",
       "      <td>-0.087089</td>\n",
       "      <td>-0.054869</td>\n",
       "      <td>-0.000007</td>\n",
       "      <td>0</td>\n",
       "      <td>0.016340</td>\n",
       "    </tr>\n",
       "    <tr>\n",
       "      <th>4</th>\n",
       "      <td>-0.312745</td>\n",
       "      <td>-1.202565</td>\n",
       "      <td>2.249806</td>\n",
       "      <td>-0.297210</td>\n",
       "      <td>-0.963389</td>\n",
       "      <td>1.207532</td>\n",
       "      <td>-0.837776</td>\n",
       "      <td>-0.057654</td>\n",
       "      <td>1.121421</td>\n",
       "      <td>0.744263</td>\n",
       "      <td>...</td>\n",
       "      <td>-0.274386</td>\n",
       "      <td>0.682305</td>\n",
       "      <td>0.432717</td>\n",
       "      <td>0.722364</td>\n",
       "      <td>-1.394148</td>\n",
       "      <td>0.660007</td>\n",
       "      <td>-0.221374</td>\n",
       "      <td>-0.136090</td>\n",
       "      <td>0</td>\n",
       "      <td>-0.190258</td>\n",
       "    </tr>\n",
       "  </tbody>\n",
       "</table>\n",
       "<p>5 rows × 30 columns</p>\n",
       "</div>"
      ],
      "text/plain": [
       "         V1        V2        V3        V4        V5        V6        V7  \\\n",
       "0  1.197490 -0.352125 -0.135904  0.222100  0.231128  1.086617 -0.420363   \n",
       "1  0.976047 -0.289947  1.465321  1.300002 -1.382887 -0.479586 -0.632572   \n",
       "2 -1.395302  0.478266 -0.584911 -1.201527  0.928544 -0.743618  0.755504   \n",
       "3  1.276014 -0.672705 -0.425494 -0.777398 -0.582088 -0.880396 -0.103505   \n",
       "4 -0.312745 -1.202565  2.249806 -0.297210 -0.963389  1.207532 -0.837776   \n",
       "\n",
       "         V8        V9       V10        ...              V21       V22  \\\n",
       "0  0.391464  0.672499 -0.058119        ...        -0.337999 -0.963921   \n",
       "1  0.064533  0.710743 -0.093670        ...         0.322829  0.790185   \n",
       "2 -0.141397 -2.118499  0.182768        ...         0.282803  0.903183   \n",
       "3 -0.203036 -1.241653  0.849479        ...         0.256003  0.408211   \n",
       "4 -0.057654  1.121421  0.744263        ...        -0.274386  0.682305   \n",
       "\n",
       "        V23       V24       V25       V26       V27       V28  Class  \\\n",
       "0 -0.121931 -1.723430  0.368319  0.408003 -0.031160 -0.013680      0   \n",
       "1 -0.101364  0.730461  0.286601 -0.283233  0.059639  0.061220      0   \n",
       "2 -0.444694  0.696438  1.153480  0.311671 -0.662353 -0.161005      0   \n",
       "3 -0.274815  0.028707  0.743485 -0.087089 -0.054869 -0.000007      0   \n",
       "4  0.432717  0.722364 -1.394148  0.660007 -0.221374 -0.136090      0   \n",
       "\n",
       "   normalizedAmount  \n",
       "0         -0.190454  \n",
       "1          0.017516  \n",
       "2         -0.231161  \n",
       "3          0.016340  \n",
       "4         -0.190258  \n",
       "\n",
       "[5 rows x 30 columns]"
      ]
     },
     "execution_count": 20,
     "metadata": {},
     "output_type": "execute_result"
    }
   ],
   "source": [
    "data = data.drop(['Time'],axis=1)\n",
    "data.head()"
   ]
  },
  {
   "cell_type": "code",
   "execution_count": 21,
   "metadata": {},
   "outputs": [],
   "source": [
    "X = data.iloc[:, data.columns != 'Class']\n",
    "y = data.iloc[:, data.columns == 'Class']"
   ]
  },
  {
   "cell_type": "code",
   "execution_count": 22,
   "metadata": {},
   "outputs": [
    {
     "data": {
      "text/html": [
       "<div>\n",
       "<style scoped>\n",
       "    .dataframe tbody tr th:only-of-type {\n",
       "        vertical-align: middle;\n",
       "    }\n",
       "\n",
       "    .dataframe tbody tr th {\n",
       "        vertical-align: top;\n",
       "    }\n",
       "\n",
       "    .dataframe thead th {\n",
       "        text-align: right;\n",
       "    }\n",
       "</style>\n",
       "<table border=\"1\" class=\"dataframe\">\n",
       "  <thead>\n",
       "    <tr style=\"text-align: right;\">\n",
       "      <th></th>\n",
       "      <th>Class</th>\n",
       "    </tr>\n",
       "  </thead>\n",
       "  <tbody>\n",
       "    <tr>\n",
       "      <th>0</th>\n",
       "      <td>0</td>\n",
       "    </tr>\n",
       "    <tr>\n",
       "      <th>1</th>\n",
       "      <td>0</td>\n",
       "    </tr>\n",
       "    <tr>\n",
       "      <th>2</th>\n",
       "      <td>0</td>\n",
       "    </tr>\n",
       "    <tr>\n",
       "      <th>3</th>\n",
       "      <td>0</td>\n",
       "    </tr>\n",
       "    <tr>\n",
       "      <th>4</th>\n",
       "      <td>0</td>\n",
       "    </tr>\n",
       "  </tbody>\n",
       "</table>\n",
       "</div>"
      ],
      "text/plain": [
       "   Class\n",
       "0      0\n",
       "1      0\n",
       "2      0\n",
       "3      0\n",
       "4      0"
      ]
     },
     "execution_count": 22,
     "metadata": {},
     "output_type": "execute_result"
    }
   ],
   "source": [
    "y.head()"
   ]
  },
  {
   "cell_type": "code",
   "execution_count": 23,
   "metadata": {},
   "outputs": [],
   "source": [
    "from sklearn.model_selection import train_test_split\n",
    "X_train, X_test, y_train, y_test = train_test_split(X,y, test_size = 0.3, random_state=0)"
   ]
  },
  {
   "cell_type": "code",
   "execution_count": 24,
   "metadata": {},
   "outputs": [
    {
     "data": {
      "text/plain": [
       "(130200, 29)"
      ]
     },
     "execution_count": 24,
     "metadata": {},
     "output_type": "execute_result"
    }
   ],
   "source": [
    "X_train.shape"
   ]
  },
  {
   "cell_type": "code",
   "execution_count": 25,
   "metadata": {},
   "outputs": [
    {
     "data": {
      "text/plain": [
       "(55800, 29)"
      ]
     },
     "execution_count": 25,
     "metadata": {},
     "output_type": "execute_result"
    }
   ],
   "source": [
    "X_test.shape"
   ]
  },
  {
   "cell_type": "markdown",
   "metadata": {},
   "source": [
    "## Random Forest"
   ]
  },
  {
   "cell_type": "code",
   "execution_count": 26,
   "metadata": {},
   "outputs": [],
   "source": [
    "from sklearn.ensemble import RandomForestClassifier"
   ]
  },
  {
   "cell_type": "code",
   "execution_count": 27,
   "metadata": {},
   "outputs": [],
   "source": [
    "random_forest = RandomForestClassifier(n_estimators=100)"
   ]
  },
  {
   "cell_type": "code",
   "execution_count": 28,
   "metadata": {},
   "outputs": [
    {
     "data": {
      "text/plain": [
       "RandomForestClassifier(bootstrap=True, class_weight=None, criterion='gini',\n",
       "            max_depth=None, max_features='auto', max_leaf_nodes=None,\n",
       "            min_impurity_decrease=0.0, min_impurity_split=None,\n",
       "            min_samples_leaf=1, min_samples_split=2,\n",
       "            min_weight_fraction_leaf=0.0, n_estimators=100, n_jobs=None,\n",
       "            oob_score=False, random_state=None, verbose=0,\n",
       "            warm_start=False)"
      ]
     },
     "execution_count": 28,
     "metadata": {},
     "output_type": "execute_result"
    }
   ],
   "source": [
    "random_forest.fit(X_train,y_train.values.ravel())"
   ]
  },
  {
   "cell_type": "code",
   "execution_count": 29,
   "metadata": {},
   "outputs": [],
   "source": [
    "y_pred = random_forest.predict(X_test)"
   ]
  },
  {
   "cell_type": "code",
   "execution_count": 30,
   "metadata": {},
   "outputs": [
    {
     "data": {
      "text/plain": [
       "0.9994802867383512"
      ]
     },
     "execution_count": 30,
     "metadata": {},
     "output_type": "execute_result"
    }
   ],
   "source": [
    "random_forest.score(X_test,y_test)"
   ]
  },
  {
   "cell_type": "code",
   "execution_count": 34,
   "metadata": {},
   "outputs": [],
   "source": [
    "cnf_matrix = confusion_matrix(y_test,y_pred)"
   ]
  },
  {
   "cell_type": "code",
   "execution_count": 38,
   "metadata": {},
   "outputs": [
    {
     "data": {
      "text/plain": [
       "<matplotlib.axes._subplots.AxesSubplot at 0x2918bb74c18>"
      ]
     },
     "execution_count": 38,
     "metadata": {},
     "output_type": "execute_result"
    },
    {
     "data": {
      "image/png": "[encoded data removed]",
      "text/plain": [
       "<Figure size 432x288 with 2 Axes>"
      ]
     },
     "metadata": {
      "needs_background": "light"
     },
     "output_type": "display_data"
    }
   ],
   "source": [
    "labels = [0,1]\n",
    "sns.heatmap(cnf_matrix, annot=True, cmap=\"YlGnBu\", fmt=\".3f\", xticklabels=labels, yticklabels=labels)\n",
    "plt.show()"
   ]
  },
  {
   "cell_type": "code",
   "execution_count": 43,
   "metadata": {},
   "outputs": [],
   "source": [
    "y_pred = random_forest.predict(X)"
   ]
  },
  {
   "cell_type": "code",
   "execution_count": 44,
   "metadata": {},
   "outputs": [],
   "source": [
    "cnf_matrix = confusion_matrix(y,y_pred.round())"
   ]
  },
  {
   "cell_type": "code",
   "execution_count": 47,
   "metadata": {},
   "outputs": [
    {
     "data": {
      "image/png": "[encoded data removed]",
      "text/plain": [
       "<Figure size 432x288 with 2 Axes>"
      ]
     },
     "metadata": {
      "needs_background": "light"
     },
     "output_type": "display_data"
    }
   ],
   "source": [
    "sns.heatmap(cnf_matrix, annot=True, cmap=\"YlGnBu\", fmt=\".3f\", xticklabels=labels, yticklabels=labels)\n",
    "plt.show()"
   ]
  }
 ],
 "metadata": {
  "kernelspec": {
   "display_name": "Python 3",
   "language": "python",
   "name": "python3"
  },
  "language_info": {
   "codemirror_mode": {
    "name": "ipython",
    "version": 3
   },
   "file_extension": ".py",
   "mimetype": "text/x-python",
   "name": "python",
   "nbconvert_exporter": "python",
   "pygments_lexer": "ipython3",
   "version": "3.6.6"
  }
 },
 "nbformat": 4,
 "nbformat_minor": 2
}
