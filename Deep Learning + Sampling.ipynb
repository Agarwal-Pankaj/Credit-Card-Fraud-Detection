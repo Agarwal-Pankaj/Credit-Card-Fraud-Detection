{
 "cells": [
  {
   "cell_type": "code",
   "execution_count": 1,
   "metadata": {},
   "outputs": [
    {
     "name": "stderr",
     "output_type": "stream",
     "text": [
      "Using TensorFlow backend.\n"
     ]
    }
   ],
   "source": [
    "import pandas as pd\n",
    "import numpy as np\n",
    "import keras\n",
    "import seaborn as sns\n",
    "from sklearn.metrics import confusion_matrix \n",
    "import matplotlib.pyplot as plt\n",
    "np.random.seed(2)"
   ]
  },
  {
   "cell_type": "code",
   "execution_count": 2,
   "metadata": {},
   "outputs": [],
   "source": [
    "data = pd.read_csv('data/creditcard.csv')"
   ]
  },
  {
   "cell_type": "markdown",
   "metadata": {},
   "source": [
    "## Data exploration"
   ]
  },
  {
   "cell_type": "code",
   "execution_count": 3,
   "metadata": {},
   "outputs": [
    {
     "data": {
      "text/html": [
       "<div>\n",
       "<style scoped>\n",
       "    .dataframe tbody tr th:only-of-type {\n",
       "        vertical-align: middle;\n",
       "    }\n",
       "\n",
       "    .dataframe tbody tr th {\n",
       "        vertical-align: top;\n",
       "    }\n",
       "\n",
       "    .dataframe thead th {\n",
       "        text-align: right;\n",
       "    }\n",
       "</style>\n",
       "<table border=\"1\" class=\"dataframe\">\n",
       "  <thead>\n",
       "    <tr style=\"text-align: right;\">\n",
       "      <th></th>\n",
       "      <th>Time</th>\n",
       "      <th>V1</th>\n",
       "      <th>V2</th>\n",
       "      <th>V3</th>\n",
       "      <th>V4</th>\n",
       "      <th>V5</th>\n",
       "      <th>V6</th>\n",
       "      <th>V7</th>\n",
       "      <th>V8</th>\n",
       "      <th>V9</th>\n",
       "      <th>...</th>\n",
       "      <th>V21</th>\n",
       "      <th>V22</th>\n",
       "      <th>V23</th>\n",
       "      <th>V24</th>\n",
       "      <th>V25</th>\n",
       "      <th>V26</th>\n",
       "      <th>V27</th>\n",
       "      <th>V28</th>\n",
       "      <th>Amount</th>\n",
       "      <th>Class</th>\n",
       "    </tr>\n",
       "  </thead>\n",
       "  <tbody>\n",
       "    <tr>\n",
       "      <th>0</th>\n",
       "      <td>51435.0</td>\n",
       "      <td>1.197490</td>\n",
       "      <td>-0.352125</td>\n",
       "      <td>-0.135904</td>\n",
       "      <td>0.222100</td>\n",
       "      <td>0.231128</td>\n",
       "      <td>1.086617</td>\n",
       "      <td>-0.420363</td>\n",
       "      <td>0.391464</td>\n",
       "      <td>0.672499</td>\n",
       "      <td>...</td>\n",
       "      <td>-0.337999</td>\n",
       "      <td>-0.963921</td>\n",
       "      <td>-0.121931</td>\n",
       "      <td>-1.723430</td>\n",
       "      <td>0.368319</td>\n",
       "      <td>0.408003</td>\n",
       "      <td>-0.031160</td>\n",
       "      <td>-0.013680</td>\n",
       "      <td>39.95</td>\n",
       "      <td>0</td>\n",
       "    </tr>\n",
       "    <tr>\n",
       "      <th>1</th>\n",
       "      <td>78049.0</td>\n",
       "      <td>0.976047</td>\n",
       "      <td>-0.289947</td>\n",
       "      <td>1.465321</td>\n",
       "      <td>1.300002</td>\n",
       "      <td>-1.382887</td>\n",
       "      <td>-0.479586</td>\n",
       "      <td>-0.632572</td>\n",
       "      <td>0.064533</td>\n",
       "      <td>0.710743</td>\n",
       "      <td>...</td>\n",
       "      <td>0.322829</td>\n",
       "      <td>0.790185</td>\n",
       "      <td>-0.101364</td>\n",
       "      <td>0.730461</td>\n",
       "      <td>0.286601</td>\n",
       "      <td>-0.283233</td>\n",
       "      <td>0.059639</td>\n",
       "      <td>0.061220</td>\n",
       "      <td>92.98</td>\n",
       "      <td>0</td>\n",
       "    </tr>\n",
       "    <tr>\n",
       "      <th>2</th>\n",
       "      <td>157168.0</td>\n",
       "      <td>-1.395302</td>\n",
       "      <td>0.478266</td>\n",
       "      <td>-0.584911</td>\n",
       "      <td>-1.201527</td>\n",
       "      <td>0.928544</td>\n",
       "      <td>-0.743618</td>\n",
       "      <td>0.755504</td>\n",
       "      <td>-0.141397</td>\n",
       "      <td>-2.118499</td>\n",
       "      <td>...</td>\n",
       "      <td>0.282803</td>\n",
       "      <td>0.903183</td>\n",
       "      <td>-0.444694</td>\n",
       "      <td>0.696438</td>\n",
       "      <td>1.153480</td>\n",
       "      <td>0.311671</td>\n",
       "      <td>-0.662353</td>\n",
       "      <td>-0.161005</td>\n",
       "      <td>29.57</td>\n",
       "      <td>0</td>\n",
       "    </tr>\n",
       "    <tr>\n",
       "      <th>3</th>\n",
       "      <td>69297.0</td>\n",
       "      <td>1.276014</td>\n",
       "      <td>-0.672705</td>\n",
       "      <td>-0.425494</td>\n",
       "      <td>-0.777398</td>\n",
       "      <td>-0.582088</td>\n",
       "      <td>-0.880396</td>\n",
       "      <td>-0.103505</td>\n",
       "      <td>-0.203036</td>\n",
       "      <td>-1.241653</td>\n",
       "      <td>...</td>\n",
       "      <td>0.256003</td>\n",
       "      <td>0.408211</td>\n",
       "      <td>-0.274815</td>\n",
       "      <td>0.028707</td>\n",
       "      <td>0.743485</td>\n",
       "      <td>-0.087089</td>\n",
       "      <td>-0.054869</td>\n",
       "      <td>-0.000007</td>\n",
       "      <td>92.68</td>\n",
       "      <td>0</td>\n",
       "    </tr>\n",
       "    <tr>\n",
       "      <th>4</th>\n",
       "      <td>144504.0</td>\n",
       "      <td>-0.312745</td>\n",
       "      <td>-1.202565</td>\n",
       "      <td>2.249806</td>\n",
       "      <td>-0.297210</td>\n",
       "      <td>-0.963389</td>\n",
       "      <td>1.207532</td>\n",
       "      <td>-0.837776</td>\n",
       "      <td>-0.057654</td>\n",
       "      <td>1.121421</td>\n",
       "      <td>...</td>\n",
       "      <td>-0.274386</td>\n",
       "      <td>0.682305</td>\n",
       "      <td>0.432717</td>\n",
       "      <td>0.722364</td>\n",
       "      <td>-1.394148</td>\n",
       "      <td>0.660007</td>\n",
       "      <td>-0.221374</td>\n",
       "      <td>-0.136090</td>\n",
       "      <td>40.00</td>\n",
       "      <td>0</td>\n",
       "    </tr>\n",
       "  </tbody>\n",
       "</table>\n",
       "<p>5 rows × 31 columns</p>\n",
       "</div>"
      ],
      "text/plain": [
       "       Time        V1        V2        V3        V4        V5        V6  \\\n",
       "0   51435.0  1.197490 -0.352125 -0.135904  0.222100  0.231128  1.086617   \n",
       "1   78049.0  0.976047 -0.289947  1.465321  1.300002 -1.382887 -0.479586   \n",
       "2  157168.0 -1.395302  0.478266 -0.584911 -1.201527  0.928544 -0.743618   \n",
       "3   69297.0  1.276014 -0.672705 -0.425494 -0.777398 -0.582088 -0.880396   \n",
       "4  144504.0 -0.312745 -1.202565  2.249806 -0.297210 -0.963389  1.207532   \n",
       "\n",
       "         V7        V8        V9  ...         V21       V22       V23  \\\n",
       "0 -0.420363  0.391464  0.672499  ...   -0.337999 -0.963921 -0.121931   \n",
       "1 -0.632572  0.064533  0.710743  ...    0.322829  0.790185 -0.101364   \n",
       "2  0.755504 -0.141397 -2.118499  ...    0.282803  0.903183 -0.444694   \n",
       "3 -0.103505 -0.203036 -1.241653  ...    0.256003  0.408211 -0.274815   \n",
       "4 -0.837776 -0.057654  1.121421  ...   -0.274386  0.682305  0.432717   \n",
       "\n",
       "        V24       V25       V26       V27       V28  Amount  Class  \n",
       "0 -1.723430  0.368319  0.408003 -0.031160 -0.013680   39.95      0  \n",
       "1  0.730461  0.286601 -0.283233  0.059639  0.061220   92.98      0  \n",
       "2  0.696438  1.153480  0.311671 -0.662353 -0.161005   29.57      0  \n",
       "3  0.028707  0.743485 -0.087089 -0.054869 -0.000007   92.68      0  \n",
       "4  0.722364 -1.394148  0.660007 -0.221374 -0.136090   40.00      0  \n",
       "\n",
       "[5 rows x 31 columns]"
      ]
     },
     "execution_count": 3,
     "metadata": {},
     "output_type": "execute_result"
    }
   ],
   "source": [
    "data.head()"
   ]
  },
  {
   "cell_type": "markdown",
   "metadata": {},
   "source": [
    "## Pre-processing"
   ]
  },
  {
   "cell_type": "code",
   "execution_count": 4,
   "metadata": {},
   "outputs": [],
   "source": [
    "from sklearn.preprocessing import StandardScaler\n",
    "data['normalizedAmount'] = StandardScaler().fit_transform(data['Amount'].values.reshape(-1,1))\n",
    "data = data.drop(['Amount'],axis=1)"
   ]
  },
  {
   "cell_type": "code",
   "execution_count": 5,
   "metadata": {},
   "outputs": [
    {
     "data": {
      "text/html": [
       "<div>\n",
       "<style scoped>\n",
       "    .dataframe tbody tr th:only-of-type {\n",
       "        vertical-align: middle;\n",
       "    }\n",
       "\n",
       "    .dataframe tbody tr th {\n",
       "        vertical-align: top;\n",
       "    }\n",
       "\n",
       "    .dataframe thead th {\n",
       "        text-align: right;\n",
       "    }\n",
       "</style>\n",
       "<table border=\"1\" class=\"dataframe\">\n",
       "  <thead>\n",
       "    <tr style=\"text-align: right;\">\n",
       "      <th></th>\n",
       "      <th>Time</th>\n",
       "      <th>V1</th>\n",
       "      <th>V2</th>\n",
       "      <th>V3</th>\n",
       "      <th>V4</th>\n",
       "      <th>V5</th>\n",
       "      <th>V6</th>\n",
       "      <th>V7</th>\n",
       "      <th>V8</th>\n",
       "      <th>V9</th>\n",
       "      <th>...</th>\n",
       "      <th>V21</th>\n",
       "      <th>V22</th>\n",
       "      <th>V23</th>\n",
       "      <th>V24</th>\n",
       "      <th>V25</th>\n",
       "      <th>V26</th>\n",
       "      <th>V27</th>\n",
       "      <th>V28</th>\n",
       "      <th>Class</th>\n",
       "      <th>normalizedAmount</th>\n",
       "    </tr>\n",
       "  </thead>\n",
       "  <tbody>\n",
       "    <tr>\n",
       "      <th>0</th>\n",
       "      <td>51435.0</td>\n",
       "      <td>1.197490</td>\n",
       "      <td>-0.352125</td>\n",
       "      <td>-0.135904</td>\n",
       "      <td>0.222100</td>\n",
       "      <td>0.231128</td>\n",
       "      <td>1.086617</td>\n",
       "      <td>-0.420363</td>\n",
       "      <td>0.391464</td>\n",
       "      <td>0.672499</td>\n",
       "      <td>...</td>\n",
       "      <td>-0.337999</td>\n",
       "      <td>-0.963921</td>\n",
       "      <td>-0.121931</td>\n",
       "      <td>-1.723430</td>\n",
       "      <td>0.368319</td>\n",
       "      <td>0.408003</td>\n",
       "      <td>-0.031160</td>\n",
       "      <td>-0.013680</td>\n",
       "      <td>0</td>\n",
       "      <td>-0.190454</td>\n",
       "    </tr>\n",
       "    <tr>\n",
       "      <th>1</th>\n",
       "      <td>78049.0</td>\n",
       "      <td>0.976047</td>\n",
       "      <td>-0.289947</td>\n",
       "      <td>1.465321</td>\n",
       "      <td>1.300002</td>\n",
       "      <td>-1.382887</td>\n",
       "      <td>-0.479586</td>\n",
       "      <td>-0.632572</td>\n",
       "      <td>0.064533</td>\n",
       "      <td>0.710743</td>\n",
       "      <td>...</td>\n",
       "      <td>0.322829</td>\n",
       "      <td>0.790185</td>\n",
       "      <td>-0.101364</td>\n",
       "      <td>0.730461</td>\n",
       "      <td>0.286601</td>\n",
       "      <td>-0.283233</td>\n",
       "      <td>0.059639</td>\n",
       "      <td>0.061220</td>\n",
       "      <td>0</td>\n",
       "      <td>0.017516</td>\n",
       "    </tr>\n",
       "    <tr>\n",
       "      <th>2</th>\n",
       "      <td>157168.0</td>\n",
       "      <td>-1.395302</td>\n",
       "      <td>0.478266</td>\n",
       "      <td>-0.584911</td>\n",
       "      <td>-1.201527</td>\n",
       "      <td>0.928544</td>\n",
       "      <td>-0.743618</td>\n",
       "      <td>0.755504</td>\n",
       "      <td>-0.141397</td>\n",
       "      <td>-2.118499</td>\n",
       "      <td>...</td>\n",
       "      <td>0.282803</td>\n",
       "      <td>0.903183</td>\n",
       "      <td>-0.444694</td>\n",
       "      <td>0.696438</td>\n",
       "      <td>1.153480</td>\n",
       "      <td>0.311671</td>\n",
       "      <td>-0.662353</td>\n",
       "      <td>-0.161005</td>\n",
       "      <td>0</td>\n",
       "      <td>-0.231161</td>\n",
       "    </tr>\n",
       "    <tr>\n",
       "      <th>3</th>\n",
       "      <td>69297.0</td>\n",
       "      <td>1.276014</td>\n",
       "      <td>-0.672705</td>\n",
       "      <td>-0.425494</td>\n",
       "      <td>-0.777398</td>\n",
       "      <td>-0.582088</td>\n",
       "      <td>-0.880396</td>\n",
       "      <td>-0.103505</td>\n",
       "      <td>-0.203036</td>\n",
       "      <td>-1.241653</td>\n",
       "      <td>...</td>\n",
       "      <td>0.256003</td>\n",
       "      <td>0.408211</td>\n",
       "      <td>-0.274815</td>\n",
       "      <td>0.028707</td>\n",
       "      <td>0.743485</td>\n",
       "      <td>-0.087089</td>\n",
       "      <td>-0.054869</td>\n",
       "      <td>-0.000007</td>\n",
       "      <td>0</td>\n",
       "      <td>0.016340</td>\n",
       "    </tr>\n",
       "    <tr>\n",
       "      <th>4</th>\n",
       "      <td>144504.0</td>\n",
       "      <td>-0.312745</td>\n",
       "      <td>-1.202565</td>\n",
       "      <td>2.249806</td>\n",
       "      <td>-0.297210</td>\n",
       "      <td>-0.963389</td>\n",
       "      <td>1.207532</td>\n",
       "      <td>-0.837776</td>\n",
       "      <td>-0.057654</td>\n",
       "      <td>1.121421</td>\n",
       "      <td>...</td>\n",
       "      <td>-0.274386</td>\n",
       "      <td>0.682305</td>\n",
       "      <td>0.432717</td>\n",
       "      <td>0.722364</td>\n",
       "      <td>-1.394148</td>\n",
       "      <td>0.660007</td>\n",
       "      <td>-0.221374</td>\n",
       "      <td>-0.136090</td>\n",
       "      <td>0</td>\n",
       "      <td>-0.190258</td>\n",
       "    </tr>\n",
       "  </tbody>\n",
       "</table>\n",
       "<p>5 rows × 31 columns</p>\n",
       "</div>"
      ],
      "text/plain": [
       "       Time        V1        V2        V3        V4        V5        V6  \\\n",
       "0   51435.0  1.197490 -0.352125 -0.135904  0.222100  0.231128  1.086617   \n",
       "1   78049.0  0.976047 -0.289947  1.465321  1.300002 -1.382887 -0.479586   \n",
       "2  157168.0 -1.395302  0.478266 -0.584911 -1.201527  0.928544 -0.743618   \n",
       "3   69297.0  1.276014 -0.672705 -0.425494 -0.777398 -0.582088 -0.880396   \n",
       "4  144504.0 -0.312745 -1.202565  2.249806 -0.297210 -0.963389  1.207532   \n",
       "\n",
       "         V7        V8        V9        ...              V21       V22  \\\n",
       "0 -0.420363  0.391464  0.672499        ...        -0.337999 -0.963921   \n",
       "1 -0.632572  0.064533  0.710743        ...         0.322829  0.790185   \n",
       "2  0.755504 -0.141397 -2.118499        ...         0.282803  0.903183   \n",
       "3 -0.103505 -0.203036 -1.241653        ...         0.256003  0.408211   \n",
       "4 -0.837776 -0.057654  1.121421        ...        -0.274386  0.682305   \n",
       "\n",
       "        V23       V24       V25       V26       V27       V28  Class  \\\n",
       "0 -0.121931 -1.723430  0.368319  0.408003 -0.031160 -0.013680      0   \n",
       "1 -0.101364  0.730461  0.286601 -0.283233  0.059639  0.061220      0   \n",
       "2 -0.444694  0.696438  1.153480  0.311671 -0.662353 -0.161005      0   \n",
       "3 -0.274815  0.028707  0.743485 -0.087089 -0.054869 -0.000007      0   \n",
       "4  0.432717  0.722364 -1.394148  0.660007 -0.221374 -0.136090      0   \n",
       "\n",
       "   normalizedAmount  \n",
       "0         -0.190454  \n",
       "1          0.017516  \n",
       "2         -0.231161  \n",
       "3          0.016340  \n",
       "4         -0.190258  \n",
       "\n",
       "[5 rows x 31 columns]"
      ]
     },
     "execution_count": 5,
     "metadata": {},
     "output_type": "execute_result"
    }
   ],
   "source": [
    "data.head()"
   ]
  },
  {
   "cell_type": "code",
   "execution_count": 6,
   "metadata": {},
   "outputs": [
    {
     "data": {
      "text/html": [
       "<div>\n",
       "<style scoped>\n",
       "    .dataframe tbody tr th:only-of-type {\n",
       "        vertical-align: middle;\n",
       "    }\n",
       "\n",
       "    .dataframe tbody tr th {\n",
       "        vertical-align: top;\n",
       "    }\n",
       "\n",
       "    .dataframe thead th {\n",
       "        text-align: right;\n",
       "    }\n",
       "</style>\n",
       "<table border=\"1\" class=\"dataframe\">\n",
       "  <thead>\n",
       "    <tr style=\"text-align: right;\">\n",
       "      <th></th>\n",
       "      <th>V1</th>\n",
       "      <th>V2</th>\n",
       "      <th>V3</th>\n",
       "      <th>V4</th>\n",
       "      <th>V5</th>\n",
       "      <th>V6</th>\n",
       "      <th>V7</th>\n",
       "      <th>V8</th>\n",
       "      <th>V9</th>\n",
       "      <th>V10</th>\n",
       "      <th>...</th>\n",
       "      <th>V21</th>\n",
       "      <th>V22</th>\n",
       "      <th>V23</th>\n",
       "      <th>V24</th>\n",
       "      <th>V25</th>\n",
       "      <th>V26</th>\n",
       "      <th>V27</th>\n",
       "      <th>V28</th>\n",
       "      <th>Class</th>\n",
       "      <th>normalizedAmount</th>\n",
       "    </tr>\n",
       "  </thead>\n",
       "  <tbody>\n",
       "    <tr>\n",
       "      <th>0</th>\n",
       "      <td>1.197490</td>\n",
       "      <td>-0.352125</td>\n",
       "      <td>-0.135904</td>\n",
       "      <td>0.222100</td>\n",
       "      <td>0.231128</td>\n",
       "      <td>1.086617</td>\n",
       "      <td>-0.420363</td>\n",
       "      <td>0.391464</td>\n",
       "      <td>0.672499</td>\n",
       "      <td>-0.058119</td>\n",
       "      <td>...</td>\n",
       "      <td>-0.337999</td>\n",
       "      <td>-0.963921</td>\n",
       "      <td>-0.121931</td>\n",
       "      <td>-1.723430</td>\n",
       "      <td>0.368319</td>\n",
       "      <td>0.408003</td>\n",
       "      <td>-0.031160</td>\n",
       "      <td>-0.013680</td>\n",
       "      <td>0</td>\n",
       "      <td>-0.190454</td>\n",
       "    </tr>\n",
       "    <tr>\n",
       "      <th>1</th>\n",
       "      <td>0.976047</td>\n",
       "      <td>-0.289947</td>\n",
       "      <td>1.465321</td>\n",
       "      <td>1.300002</td>\n",
       "      <td>-1.382887</td>\n",
       "      <td>-0.479586</td>\n",
       "      <td>-0.632572</td>\n",
       "      <td>0.064533</td>\n",
       "      <td>0.710743</td>\n",
       "      <td>-0.093670</td>\n",
       "      <td>...</td>\n",
       "      <td>0.322829</td>\n",
       "      <td>0.790185</td>\n",
       "      <td>-0.101364</td>\n",
       "      <td>0.730461</td>\n",
       "      <td>0.286601</td>\n",
       "      <td>-0.283233</td>\n",
       "      <td>0.059639</td>\n",
       "      <td>0.061220</td>\n",
       "      <td>0</td>\n",
       "      <td>0.017516</td>\n",
       "    </tr>\n",
       "    <tr>\n",
       "      <th>2</th>\n",
       "      <td>-1.395302</td>\n",
       "      <td>0.478266</td>\n",
       "      <td>-0.584911</td>\n",
       "      <td>-1.201527</td>\n",
       "      <td>0.928544</td>\n",
       "      <td>-0.743618</td>\n",
       "      <td>0.755504</td>\n",
       "      <td>-0.141397</td>\n",
       "      <td>-2.118499</td>\n",
       "      <td>0.182768</td>\n",
       "      <td>...</td>\n",
       "      <td>0.282803</td>\n",
       "      <td>0.903183</td>\n",
       "      <td>-0.444694</td>\n",
       "      <td>0.696438</td>\n",
       "      <td>1.153480</td>\n",
       "      <td>0.311671</td>\n",
       "      <td>-0.662353</td>\n",
       "      <td>-0.161005</td>\n",
       "      <td>0</td>\n",
       "      <td>-0.231161</td>\n",
       "    </tr>\n",
       "    <tr>\n",
       "      <th>3</th>\n",
       "      <td>1.276014</td>\n",
       "      <td>-0.672705</td>\n",
       "      <td>-0.425494</td>\n",
       "      <td>-0.777398</td>\n",
       "      <td>-0.582088</td>\n",
       "      <td>-0.880396</td>\n",
       "      <td>-0.103505</td>\n",
       "      <td>-0.203036</td>\n",
       "      <td>-1.241653</td>\n",
       "      <td>0.849479</td>\n",
       "      <td>...</td>\n",
       "      <td>0.256003</td>\n",
       "      <td>0.408211</td>\n",
       "      <td>-0.274815</td>\n",
       "      <td>0.028707</td>\n",
       "      <td>0.743485</td>\n",
       "      <td>-0.087089</td>\n",
       "      <td>-0.054869</td>\n",
       "      <td>-0.000007</td>\n",
       "      <td>0</td>\n",
       "      <td>0.016340</td>\n",
       "    </tr>\n",
       "    <tr>\n",
       "      <th>4</th>\n",
       "      <td>-0.312745</td>\n",
       "      <td>-1.202565</td>\n",
       "      <td>2.249806</td>\n",
       "      <td>-0.297210</td>\n",
       "      <td>-0.963389</td>\n",
       "      <td>1.207532</td>\n",
       "      <td>-0.837776</td>\n",
       "      <td>-0.057654</td>\n",
       "      <td>1.121421</td>\n",
       "      <td>0.744263</td>\n",
       "      <td>...</td>\n",
       "      <td>-0.274386</td>\n",
       "      <td>0.682305</td>\n",
       "      <td>0.432717</td>\n",
       "      <td>0.722364</td>\n",
       "      <td>-1.394148</td>\n",
       "      <td>0.660007</td>\n",
       "      <td>-0.221374</td>\n",
       "      <td>-0.136090</td>\n",
       "      <td>0</td>\n",
       "      <td>-0.190258</td>\n",
       "    </tr>\n",
       "  </tbody>\n",
       "</table>\n",
       "<p>5 rows × 30 columns</p>\n",
       "</div>"
      ],
      "text/plain": [
       "         V1        V2        V3        V4        V5        V6        V7  \\\n",
       "0  1.197490 -0.352125 -0.135904  0.222100  0.231128  1.086617 -0.420363   \n",
       "1  0.976047 -0.289947  1.465321  1.300002 -1.382887 -0.479586 -0.632572   \n",
       "2 -1.395302  0.478266 -0.584911 -1.201527  0.928544 -0.743618  0.755504   \n",
       "3  1.276014 -0.672705 -0.425494 -0.777398 -0.582088 -0.880396 -0.103505   \n",
       "4 -0.312745 -1.202565  2.249806 -0.297210 -0.963389  1.207532 -0.837776   \n",
       "\n",
       "         V8        V9       V10        ...              V21       V22  \\\n",
       "0  0.391464  0.672499 -0.058119        ...        -0.337999 -0.963921   \n",
       "1  0.064533  0.710743 -0.093670        ...         0.322829  0.790185   \n",
       "2 -0.141397 -2.118499  0.182768        ...         0.282803  0.903183   \n",
       "3 -0.203036 -1.241653  0.849479        ...         0.256003  0.408211   \n",
       "4 -0.057654  1.121421  0.744263        ...        -0.274386  0.682305   \n",
       "\n",
       "        V23       V24       V25       V26       V27       V28  Class  \\\n",
       "0 -0.121931 -1.723430  0.368319  0.408003 -0.031160 -0.013680      0   \n",
       "1 -0.101364  0.730461  0.286601 -0.283233  0.059639  0.061220      0   \n",
       "2 -0.444694  0.696438  1.153480  0.311671 -0.662353 -0.161005      0   \n",
       "3 -0.274815  0.028707  0.743485 -0.087089 -0.054869 -0.000007      0   \n",
       "4  0.432717  0.722364 -1.394148  0.660007 -0.221374 -0.136090      0   \n",
       "\n",
       "   normalizedAmount  \n",
       "0         -0.190454  \n",
       "1          0.017516  \n",
       "2         -0.231161  \n",
       "3          0.016340  \n",
       "4         -0.190258  \n",
       "\n",
       "[5 rows x 30 columns]"
      ]
     },
     "execution_count": 6,
     "metadata": {},
     "output_type": "execute_result"
    }
   ],
   "source": [
    "data = data.drop(['Time'],axis=1)\n",
    "data.head()"
   ]
  },
  {
   "cell_type": "code",
   "execution_count": 7,
   "metadata": {},
   "outputs": [],
   "source": [
    "X = data.iloc[:, data.columns != 'Class']\n",
    "y = data.iloc[:, data.columns == 'Class']"
   ]
  },
  {
   "cell_type": "code",
   "execution_count": 8,
   "metadata": {},
   "outputs": [
    {
     "data": {
      "text/html": [
       "<div>\n",
       "<style scoped>\n",
       "    .dataframe tbody tr th:only-of-type {\n",
       "        vertical-align: middle;\n",
       "    }\n",
       "\n",
       "    .dataframe tbody tr th {\n",
       "        vertical-align: top;\n",
       "    }\n",
       "\n",
       "    .dataframe thead th {\n",
       "        text-align: right;\n",
       "    }\n",
       "</style>\n",
       "<table border=\"1\" class=\"dataframe\">\n",
       "  <thead>\n",
       "    <tr style=\"text-align: right;\">\n",
       "      <th></th>\n",
       "      <th>Class</th>\n",
       "    </tr>\n",
       "  </thead>\n",
       "  <tbody>\n",
       "    <tr>\n",
       "      <th>0</th>\n",
       "      <td>0</td>\n",
       "    </tr>\n",
       "    <tr>\n",
       "      <th>1</th>\n",
       "      <td>0</td>\n",
       "    </tr>\n",
       "    <tr>\n",
       "      <th>2</th>\n",
       "      <td>0</td>\n",
       "    </tr>\n",
       "    <tr>\n",
       "      <th>3</th>\n",
       "      <td>0</td>\n",
       "    </tr>\n",
       "    <tr>\n",
       "      <th>4</th>\n",
       "      <td>0</td>\n",
       "    </tr>\n",
       "  </tbody>\n",
       "</table>\n",
       "</div>"
      ],
      "text/plain": [
       "   Class\n",
       "0      0\n",
       "1      0\n",
       "2      0\n",
       "3      0\n",
       "4      0"
      ]
     },
     "execution_count": 8,
     "metadata": {},
     "output_type": "execute_result"
    }
   ],
   "source": [
    "y.head()"
   ]
  },
  {
   "cell_type": "code",
   "execution_count": 9,
   "metadata": {},
   "outputs": [],
   "source": [
    "from sklearn.model_selection import train_test_split\n",
    "X_train, X_test, y_train, y_test = train_test_split(X,y, test_size = 0.3, random_state=0)"
   ]
  },
  {
   "cell_type": "code",
   "execution_count": 10,
   "metadata": {},
   "outputs": [
    {
     "data": {
      "text/plain": [
       "(130200, 29)"
      ]
     },
     "execution_count": 10,
     "metadata": {},
     "output_type": "execute_result"
    }
   ],
   "source": [
    "X_train.shape"
   ]
  },
  {
   "cell_type": "code",
   "execution_count": 11,
   "metadata": {},
   "outputs": [
    {
     "data": {
      "text/plain": [
       "(55800, 29)"
      ]
     },
     "execution_count": 11,
     "metadata": {},
     "output_type": "execute_result"
    }
   ],
   "source": [
    "X_test.shape"
   ]
  },
  {
   "cell_type": "code",
   "execution_count": 12,
   "metadata": {},
   "outputs": [],
   "source": [
    "X_train = np.array(X_train)\n",
    "X_test = np.array(X_test)\n",
    "y_train = np.array(y_train)\n",
    "y_test = np.array(y_test)"
   ]
  },
  {
   "cell_type": "markdown",
   "metadata": {},
   "source": [
    "## Deep neural network"
   ]
  },
  {
   "cell_type": "code",
   "execution_count": 13,
   "metadata": {},
   "outputs": [],
   "source": [
    "from keras.models import Sequential\n",
    "from keras.layers import Dense\n",
    "from keras.layers import Dropout"
   ]
  },
  {
   "cell_type": "code",
   "execution_count": 14,
   "metadata": {},
   "outputs": [],
   "source": [
    "model = Sequential([\n",
    "    Dense(units=16, input_dim = 29,activation='relu'),\n",
    "    Dense(units=24,activation='relu'),\n",
    "    Dropout(0.5),\n",
    "    Dense(20,activation='relu'),\n",
    "    Dense(24,activation='relu'),\n",
    "    Dense(1,activation='sigmoid'),\n",
    "])"
   ]
  },
  {
   "cell_type": "code",
   "execution_count": 15,
   "metadata": {},
   "outputs": [
    {
     "name": "stdout",
     "output_type": "stream",
     "text": [
      "_________________________________________________________________\n",
      "Layer (type)                 Output Shape              Param #   \n",
      "=================================================================\n",
      "dense_1 (Dense)              (None, 16)                480       \n",
      "_________________________________________________________________\n",
      "dense_2 (Dense)              (None, 24)                408       \n",
      "_________________________________________________________________\n",
      "dropout_1 (Dropout)          (None, 24)                0         \n",
      "_________________________________________________________________\n",
      "dense_3 (Dense)              (None, 20)                500       \n",
      "_________________________________________________________________\n",
      "dense_4 (Dense)              (None, 24)                504       \n",
      "_________________________________________________________________\n",
      "dense_5 (Dense)              (None, 1)                 25        \n",
      "=================================================================\n",
      "Total params: 1,917\n",
      "Trainable params: 1,917\n",
      "Non-trainable params: 0\n",
      "_________________________________________________________________\n"
     ]
    }
   ],
   "source": [
    "model.summary()"
   ]
  },
  {
   "cell_type": "markdown",
   "metadata": {},
   "source": [
    "## Training"
   ]
  },
  {
   "cell_type": "code",
   "execution_count": 16,
   "metadata": {},
   "outputs": [
    {
     "name": "stdout",
     "output_type": "stream",
     "text": [
      "Epoch 1/5\n",
      "130200/130200 [==============================] - 19s 143us/step - loss: 0.0126 - acc: 0.9971\n",
      "Epoch 2/5\n",
      "130200/130200 [==============================] - 18s 138us/step - loss: 0.0042 - acc: 0.9994\n",
      "Epoch 3/5\n",
      "130200/130200 [==============================] - 18s 136us/step - loss: 0.0037 - acc: 0.9995\n",
      "Epoch 4/5\n",
      "130200/130200 [==============================] - 17s 130us/step - loss: 0.0034 - acc: 0.9995\n",
      "Epoch 5/5\n",
      "130200/130200 [==============================] - 17s 128us/step - loss: 0.0034 - acc: 0.9995\n"
     ]
    },
    {
     "data": {
      "text/plain": [
       "<keras.callbacks.History at 0x1db73f915f8>"
      ]
     },
     "execution_count": 16,
     "metadata": {},
     "output_type": "execute_result"
    }
   ],
   "source": [
    "model.compile(optimizer='adam',loss='binary_crossentropy',metrics=['accuracy'])\n",
    "model.fit(X_train,y_train,batch_size=15,epochs=5)"
   ]
  },
  {
   "cell_type": "code",
   "execution_count": 17,
   "metadata": {},
   "outputs": [
    {
     "name": "stdout",
     "output_type": "stream",
     "text": [
      "55800/55800 [==============================] - 1s 23us/step\n"
     ]
    }
   ],
   "source": [
    "score = model.evaluate(X_test, y_test)"
   ]
  },
  {
   "cell_type": "code",
   "execution_count": 18,
   "metadata": {},
   "outputs": [
    {
     "name": "stdout",
     "output_type": "stream",
     "text": [
      "[0.00570363558774993, 0.9993010752688172]\n"
     ]
    }
   ],
   "source": [
    "print(score)"
   ]
  },
  {
   "cell_type": "code",
   "execution_count": 19,
   "metadata": {},
   "outputs": [],
   "source": [
    "y_pred = model.predict(X_test)\n",
    "y_test = pd.DataFrame(y_test)"
   ]
  },
  {
   "cell_type": "code",
   "execution_count": 20,
   "metadata": {},
   "outputs": [],
   "source": [
    "cnf_matrix = confusion_matrix(y_test, y_pred.round())"
   ]
  },
  {
   "cell_type": "code",
   "execution_count": 21,
   "metadata": {},
   "outputs": [
    {
     "name": "stdout",
     "output_type": "stream",
     "text": [
      "[[55690    19]\n",
      " [   20    71]]\n"
     ]
    }
   ],
   "source": [
    "print(cnf_matrix)"
   ]
  },
  {
   "cell_type": "code",
   "execution_count": 30,
   "metadata": {},
   "outputs": [
    {
     "name": "stdout",
     "output_type": "stream",
     "text": [
      "Confusion matrix, without normalization\n",
      "[[85281    15]\n",
      " [   36   111]]\n"
     ]
    }
   ],
   "source": [
    "plot_confusion_matrix(cnf_matrix, classes=[0,1])"
   ]
  },
  {
   "cell_type": "code",
   "execution_count": 23,
   "metadata": {},
   "outputs": [
    {
     "data": {
      "text/plain": [
       "<matplotlib.axes._subplots.AxesSubplot at 0x1db09686668>"
      ]
     },
     "execution_count": 23,
     "metadata": {},
     "output_type": "execute_result"
    },
    {
     "data": {
      "image/png": "[encoded data removed]",
      "text/plain": [
       "<Figure size 432x288 with 2 Axes>"
      ]
     },
     "metadata": {
      "needs_background": "light"
     },
     "output_type": "display_data"
    }
   ],
   "source": [
    "labels = [0,1]\n",
    "sns.heatmap(cnf_matrix, annot=True, cmap=\"YlGnBu\", fmt=\".3f\", xticklabels=labels, yticklabels=labels)"
   ]
  },
  {
   "cell_type": "code",
   "execution_count": 25,
   "metadata": {},
   "outputs": [
    {
     "data": {
      "text/plain": [
       "<matplotlib.axes._subplots.AxesSubplot at 0x1db09506080>"
      ]
     },
     "execution_count": 25,
     "metadata": {},
     "output_type": "execute_result"
    },
    {
     "data": {
      "image/png": "[encoded data removed]",
      "text/plain": [
       "<Figure size 432x288 with 2 Axes>"
      ]
     },
     "metadata": {
      "needs_background": "light"
     },
     "output_type": "display_data"
    }
   ],
   "source": [
    "y_pred = model.predict(X)\n",
    "y_expected = pd.DataFrame(y)\n",
    "cnf_matrix = confusion_matrix(y_expected, y_pred.round())\n",
    "sns.heatmap(cnf_matrix, annot=True, cmap=\"YlGnBu\", fmt=\".3f\", xticklabels=labels, yticklabels=labels)"
   ]
  },
  {
   "cell_type": "markdown",
   "metadata": {},
   "source": [
    "## Undersampling"
   ]
  },
  {
   "cell_type": "code",
   "execution_count": 26,
   "metadata": {},
   "outputs": [
    {
     "name": "stdout",
     "output_type": "stream",
     "text": [
      "295\n"
     ]
    }
   ],
   "source": [
    "fraud_indices = np.array(data[data.Class == 1].index)\n",
    "number_records_fraud = len(fraud_indices)\n",
    "print(number_records_fraud)"
   ]
  },
  {
   "cell_type": "code",
   "execution_count": 27,
   "metadata": {},
   "outputs": [],
   "source": [
    "normal_indices = data[data.Class == 0].index"
   ]
  },
  {
   "cell_type": "code",
   "execution_count": 28,
   "metadata": {},
   "outputs": [
    {
     "name": "stdout",
     "output_type": "stream",
     "text": [
      "295\n"
     ]
    }
   ],
   "source": [
    "random_normal_indices = np.random.choice(normal_indices, number_records_fraud, replace=False)\n",
    "random_normal_indices = np.array(random_normal_indices)\n",
    "print(len(random_normal_indices))"
   ]
  },
  {
   "cell_type": "code",
   "execution_count": 29,
   "metadata": {},
   "outputs": [
    {
     "name": "stdout",
     "output_type": "stream",
     "text": [
      "590\n"
     ]
    }
   ],
   "source": [
    "under_sample_indices = np.concatenate([fraud_indices,random_normal_indices])\n",
    "print(len(under_sample_indices))"
   ]
  },
  {
   "cell_type": "code",
   "execution_count": 30,
   "metadata": {},
   "outputs": [],
   "source": [
    "under_sample_data = data.iloc[under_sample_indices,:]"
   ]
  },
  {
   "cell_type": "code",
   "execution_count": 31,
   "metadata": {},
   "outputs": [],
   "source": [
    "X_undersample = under_sample_data.iloc[:,under_sample_data.columns != 'Class']\n",
    "y_undersample = under_sample_data.iloc[:,under_sample_data.columns == 'Class']"
   ]
  },
  {
   "cell_type": "code",
   "execution_count": 32,
   "metadata": {},
   "outputs": [],
   "source": [
    "X_train, X_test, y_train, y_test = train_test_split(X_undersample,y_undersample, test_size=0.3)"
   ]
  },
  {
   "cell_type": "code",
   "execution_count": 33,
   "metadata": {},
   "outputs": [],
   "source": [
    "X_train = np.array(X_train)\n",
    "X_test = np.array(X_test)\n",
    "y_train = np.array(y_train)\n",
    "y_test = np.array(y_test)"
   ]
  },
  {
   "cell_type": "code",
   "execution_count": 34,
   "metadata": {},
   "outputs": [
    {
     "name": "stdout",
     "output_type": "stream",
     "text": [
      "_________________________________________________________________\n",
      "Layer (type)                 Output Shape              Param #   \n",
      "=================================================================\n",
      "dense_1 (Dense)              (None, 16)                480       \n",
      "_________________________________________________________________\n",
      "dense_2 (Dense)              (None, 24)                408       \n",
      "_________________________________________________________________\n",
      "dropout_1 (Dropout)          (None, 24)                0         \n",
      "_________________________________________________________________\n",
      "dense_3 (Dense)              (None, 20)                500       \n",
      "_________________________________________________________________\n",
      "dense_4 (Dense)              (None, 24)                504       \n",
      "_________________________________________________________________\n",
      "dense_5 (Dense)              (None, 1)                 25        \n",
      "=================================================================\n",
      "Total params: 1,917\n",
      "Trainable params: 1,917\n",
      "Non-trainable params: 0\n",
      "_________________________________________________________________\n"
     ]
    }
   ],
   "source": [
    "model.summary()"
   ]
  },
  {
   "cell_type": "code",
   "execution_count": 38,
   "metadata": {},
   "outputs": [
    {
     "name": "stdout",
     "output_type": "stream",
     "text": [
      "Epoch 1/10\n",
      "413/413 [==============================] - 1s 3ms/step - loss: 0.1145 - acc: 0.9540\n",
      "Epoch 2/10\n",
      "413/413 [==============================] - 0s 157us/step - loss: 0.1114 - acc: 0.9588\n",
      "Epoch 3/10\n",
      "413/413 [==============================] - 0s 164us/step - loss: 0.1092 - acc: 0.9540\n",
      "Epoch 4/10\n",
      "413/413 [==============================] - 0s 151us/step - loss: 0.0987 - acc: 0.9588\n",
      "Epoch 5/10\n",
      "413/413 [==============================] - 0s 147us/step - loss: 0.1008 - acc: 0.9564\n",
      "Epoch 6/10\n",
      "413/413 [==============================] - 0s 176us/step - loss: 0.0903 - acc: 0.9661\n",
      "Epoch 7/10\n",
      "413/413 [==============================] - 0s 157us/step - loss: 0.0899 - acc: 0.9661\n",
      "Epoch 8/10\n",
      "413/413 [==============================] - 0s 156us/step - loss: 0.0905 - acc: 0.9613\n",
      "Epoch 9/10\n",
      "413/413 [==============================] - 0s 164us/step - loss: 0.1023 - acc: 0.9709\n",
      "Epoch 10/10\n",
      "413/413 [==============================] - 0s 170us/step - loss: 0.1092 - acc: 0.9613\n"
     ]
    },
    {
     "data": {
      "text/plain": [
       "<keras.callbacks.History at 0x1db6afd6e48>"
      ]
     },
     "execution_count": 38,
     "metadata": {},
     "output_type": "execute_result"
    }
   ],
   "source": [
    "model.compile(optimizer='adam',loss='binary_crossentropy',metrics=['accuracy'])\n",
    "model.fit(X_train,y_train,batch_size=15,epochs=10)"
   ]
  },
  {
   "cell_type": "code",
   "execution_count": 40,
   "metadata": {},
   "outputs": [
    {
     "data": {
      "image/png": "[encoded data removed]",
      "text/plain": [
       "<Figure size 432x288 with 2 Axes>"
      ]
     },
     "metadata": {
      "needs_background": "light"
     },
     "output_type": "display_data"
    }
   ],
   "source": [
    "y_pred = model.predict(X_test)\n",
    "y_expected = pd.DataFrame(y_test)\n",
    "cnf_matrix = confusion_matrix(y_expected, y_pred.round())\n",
    "sns.heatmap(cnf_matrix, annot=True, cmap=\"YlGnBu\", fmt=\".3f\", xticklabels=labels, yticklabels=labels)\n",
    "plt.show()"
   ]
  },
  {
   "cell_type": "code",
   "execution_count": 42,
   "metadata": {},
   "outputs": [
    {
     "data": {
      "image/png": "[encoded data removed]",
      "text/plain": [
       "<Figure size 432x288 with 2 Axes>"
      ]
     },
     "metadata": {
      "needs_background": "light"
     },
     "output_type": "display_data"
    }
   ],
   "source": [
    "y_pred = model.predict(X)\n",
    "y_expected = pd.DataFrame(y)\n",
    "cnf_matrix = confusion_matrix(y_expected, y_pred.round())\n",
    "sns.heatmap(cnf_matrix, annot=True, cmap=\"YlGnBu\", fmt=\".3f\", xticklabels=labels, yticklabels=labels)\n",
    "plt.show()"
   ]
  },
  {
   "cell_type": "markdown",
   "metadata": {},
   "source": [
    "## SMOTE"
   ]
  },
  {
   "cell_type": "code",
   "execution_count": 44,
   "metadata": {},
   "outputs": [
    {
     "name": "stdout",
     "output_type": "stream",
     "text": [
      "\n",
      "The following command must be run outside of the IPython shell:\n",
      "\n",
      "    $ pip install -U imbalanced-learn\n",
      "\n",
      "The Python package manager (pip) can only be used from outside of IPython.\n",
      "Please reissue the `pip` command in a separate terminal or command prompt.\n",
      "\n",
      "See the Python documentation for more information on how to install packages:\n",
      "\n",
      "    https://docs.python.org/3/installing/\n"
     ]
    }
   ],
   "source": [
    "pip install -U imbalanced-learn"
   ]
  },
  {
   "cell_type": "code",
   "execution_count": 45,
   "metadata": {},
   "outputs": [],
   "source": [
    "from imblearn.over_sampling import SMOTE"
   ]
  },
  {
   "cell_type": "code",
   "execution_count": 46,
   "metadata": {},
   "outputs": [],
   "source": [
    "X_resample, y_resample = SMOTE().fit_sample(X,y.values.ravel())"
   ]
  },
  {
   "cell_type": "code",
   "execution_count": 47,
   "metadata": {},
   "outputs": [],
   "source": [
    "y_resample = pd.DataFrame(y_resample)\n",
    "X_resample = pd.DataFrame(X_resample)"
   ]
  },
  {
   "cell_type": "code",
   "execution_count": 48,
   "metadata": {},
   "outputs": [],
   "source": [
    "X_train, X_test, y_train, y_test = train_test_split(X_resample,y_resample,test_size=0.3)"
   ]
  },
  {
   "cell_type": "code",
   "execution_count": 49,
   "metadata": {},
   "outputs": [],
   "source": [
    "X_train = np.array(X_train)\n",
    "X_test = np.array(X_test)\n",
    "y_train = np.array(y_train)\n",
    "y_test = np.array(y_test)"
   ]
  },
  {
   "cell_type": "code",
   "execution_count": 50,
   "metadata": {},
   "outputs": [
    {
     "name": "stdout",
     "output_type": "stream",
     "text": [
      "Epoch 1/5\n",
      "259987/259987 [==============================] - 44s 171us/step - loss: 0.0149 - acc: 0.9957\n",
      "Epoch 2/5\n",
      "259987/259987 [==============================] - 38s 146us/step - loss: 0.0056 - acc: 0.9987\n",
      "Epoch 3/5\n",
      "259987/259987 [==============================] - 32s 123us/step - loss: 0.0045 - acc: 0.9991\n",
      "Epoch 4/5\n",
      "259987/259987 [==============================] - 30s 116us/step - loss: 0.0037 - acc: 0.9992\n",
      "Epoch 5/5\n",
      "259987/259987 [==============================] - 30s 114us/step - loss: 0.0038 - acc: 0.9993\n"
     ]
    },
    {
     "data": {
      "text/plain": [
       "<keras.callbacks.History at 0x1db73ef6400>"
      ]
     },
     "execution_count": 50,
     "metadata": {},
     "output_type": "execute_result"
    }
   ],
   "source": [
    "model.compile(optimizer='adam',loss='binary_crossentropy',metrics=['accuracy'])\n",
    "model.fit(X_train,y_train,batch_size=15,epochs=5)"
   ]
  },
  {
   "cell_type": "code",
   "execution_count": 52,
   "metadata": {},
   "outputs": [
    {
     "data": {
      "text/plain": [
       "<matplotlib.axes._subplots.AxesSubplot at 0x1db0e0dc898>"
      ]
     },
     "execution_count": 52,
     "metadata": {},
     "output_type": "execute_result"
    },
    {
     "data": {
      "image/png": "[encoded data removed]",
      "text/plain": [
       "<Figure size 432x288 with 2 Axes>"
      ]
     },
     "metadata": {
      "needs_background": "light"
     },
     "output_type": "display_data"
    }
   ],
   "source": [
    "y_pred = model.predict(X_test)\n",
    "y_expected = pd.DataFrame(y_test)\n",
    "cnf_matrix = confusion_matrix(y_expected, y_pred.round())\n",
    "sns.heatmap(cnf_matrix, annot=True, cmap=\"YlGnBu\", fmt=\".3f\", xticklabels=labels, yticklabels=labels)"
   ]
  },
  {
   "cell_type": "code",
   "execution_count": 53,
   "metadata": {},
   "outputs": [
    {
     "data": {
      "image/png": "[encoded data removed]",
      "text/plain": [
       "<Figure size 432x288 with 2 Axes>"
      ]
     },
     "metadata": {
      "needs_background": "light"
     },
     "output_type": "display_data"
    }
   ],
   "source": [
    "y_pred = model.predict(X)\n",
    "y_expected = pd.DataFrame(y)\n",
    "cnf_matrix = confusion_matrix(y_expected, y_pred.round())\n",
    "sns.heatmap(cnf_matrix, annot=True, cmap=\"YlGnBu\", fmt=\".3f\", xticklabels=labels, yticklabels=labels)\n",
    "plt.show()"
   ]
  },
  {
   "cell_type": "code",
   "execution_count": null,
   "metadata": {},
   "outputs": [],
   "source": []
  },
  {
   "cell_type": "code",
   "execution_count": null,
   "metadata": {},
   "outputs": [],
   "source": []
  }
 ],
 "metadata": {
  "kernelspec": {
   "display_name": "Python 3",
   "language": "python",
   "name": "python3"
  },
  "language_info": {
   "codemirror_mode": {
    "name": "ipython",
    "version": 3
   },
   "file_extension": ".py",
   "mimetype": "text/x-python",
   "name": "python",
   "nbconvert_exporter": "python",
   "pygments_lexer": "ipython3",
   "version": "3.6.6"
  }
 },
 "nbformat": 4,
 "nbformat_minor": 2
}
